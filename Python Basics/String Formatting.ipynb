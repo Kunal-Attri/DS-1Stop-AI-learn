{
 "cells": [
  {
   "cell_type": "code",
   "execution_count": 1,
   "id": "6255bdd6",
   "metadata": {},
   "outputs": [],
   "source": [
    "# 1. %s\n",
    "# 2. format()\n",
    "# 3. f-string"
   ]
  },
  {
   "cell_type": "code",
   "execution_count": 4,
   "id": "ddead05d",
   "metadata": {},
   "outputs": [
    {
     "name": "stdout",
     "output_type": "stream",
     "text": [
      "I love working with Python\n"
     ]
    }
   ],
   "source": [
    "print(\"I love working with %s\" %'Python')"
   ]
  },
  {
   "cell_type": "code",
   "execution_count": 5,
   "id": "11aa5219",
   "metadata": {},
   "outputs": [
    {
     "name": "stdout",
     "output_type": "stream",
     "text": [
      "Python is easy and simple\n"
     ]
    }
   ],
   "source": [
    "print(\"Python is %s and %s\" %('easy', 'simple'))"
   ]
  },
  {
   "cell_type": "code",
   "execution_count": 6,
   "id": "789fa1da",
   "metadata": {},
   "outputs": [
    {
     "name": "stdout",
     "output_type": "stream",
     "text": [
      "I love working with Python\n"
     ]
    }
   ],
   "source": [
    "print(\"I love working with {}\".format('Python'))"
   ]
  },
  {
   "cell_type": "code",
   "execution_count": 8,
   "id": "d363fec3",
   "metadata": {},
   "outputs": [
    {
     "name": "stdout",
     "output_type": "stream",
     "text": [
      "I love working with Python\n"
     ]
    }
   ],
   "source": [
    "a = \"Python\"\n",
    "print(f\"I love working with {a}\")"
   ]
  },
  {
   "cell_type": "code",
   "execution_count": null,
   "id": "b200b7ac",
   "metadata": {},
   "outputs": [],
   "source": []
  }
 ],
 "metadata": {
  "kernelspec": {
   "display_name": "Python 3 (ipykernel)",
   "language": "python",
   "name": "python3"
  },
  "language_info": {
   "codemirror_mode": {
    "name": "ipython",
    "version": 3
   },
   "file_extension": ".py",
   "mimetype": "text/x-python",
   "name": "python",
   "nbconvert_exporter": "python",
   "pygments_lexer": "ipython3",
   "version": "3.9.7"
  }
 },
 "nbformat": 4,
 "nbformat_minor": 5
}
