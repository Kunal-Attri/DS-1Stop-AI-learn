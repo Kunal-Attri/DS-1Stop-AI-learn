{
 "cells": [
  {
   "cell_type": "code",
   "execution_count": 5,
   "id": "228bc812",
   "metadata": {},
   "outputs": [],
   "source": [
    "class Dog:\n",
    "    def __init__(self, name):\n",
    "        self.name = name\n",
    "    \n",
    "    def speak(self):\n",
    "        return self.name + ' barks Woof'"
   ]
  },
  {
   "cell_type": "code",
   "execution_count": 6,
   "id": "6048f356",
   "metadata": {},
   "outputs": [],
   "source": [
    "class Cat:\n",
    "    def __init__(self, name):\n",
    "        self.name = name\n",
    "    \n",
    "    def speak(self):\n",
    "        return self.name + ' says meow'"
   ]
  },
  {
   "cell_type": "code",
   "execution_count": 7,
   "id": "5b9ed6b2",
   "metadata": {},
   "outputs": [],
   "source": [
    "d = Dog('Alex')\n",
    "c = Cat('Felix')"
   ]
  },
  {
   "cell_type": "code",
   "execution_count": 8,
   "id": "0b8653b9",
   "metadata": {},
   "outputs": [
    {
     "name": "stdout",
     "output_type": "stream",
     "text": [
      "Alex barks Woof\n",
      "Felix says meow\n"
     ]
    }
   ],
   "source": [
    "print(d.speak())\n",
    "print(c.speak())"
   ]
  },
  {
   "cell_type": "code",
   "execution_count": null,
   "id": "1f1bdaa3",
   "metadata": {},
   "outputs": [],
   "source": []
  }
 ],
 "metadata": {
  "kernelspec": {
   "display_name": "Python 3 (ipykernel)",
   "language": "python",
   "name": "python3"
  },
  "language_info": {
   "codemirror_mode": {
    "name": "ipython",
    "version": 3
   },
   "file_extension": ".py",
   "mimetype": "text/x-python",
   "name": "python",
   "nbconvert_exporter": "python",
   "pygments_lexer": "ipython3",
   "version": "3.9.7"
  }
 },
 "nbformat": 4,
 "nbformat_minor": 5
}
