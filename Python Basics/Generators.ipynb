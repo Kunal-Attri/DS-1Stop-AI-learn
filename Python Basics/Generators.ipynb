{
 "cells": [
  {
   "cell_type": "code",
   "execution_count": 1,
   "id": "2f94f675",
   "metadata": {},
   "outputs": [],
   "source": [
    "# kind of fn which can send a value and later continue from where it left off"
   ]
  },
  {
   "cell_type": "code",
   "execution_count": 2,
   "id": "8b2b8b47",
   "metadata": {},
   "outputs": [],
   "source": [
    "def cubes(n):\n",
    "    for i in range(n):\n",
    "        yield i**3"
   ]
  },
  {
   "cell_type": "code",
   "execution_count": 3,
   "id": "c8d57c77",
   "metadata": {},
   "outputs": [
    {
     "name": "stdout",
     "output_type": "stream",
     "text": [
      "0\n",
      "1\n",
      "8\n",
      "27\n",
      "64\n"
     ]
    }
   ],
   "source": [
    "for x in cubes(5):\n",
    "    print(x)"
   ]
  },
  {
   "cell_type": "code",
   "execution_count": 6,
   "id": "3539d245",
   "metadata": {},
   "outputs": [
    {
     "name": "stdout",
     "output_type": "stream",
     "text": [
      "<generator object cubes at 0x7fee12f66c10>\n"
     ]
    }
   ],
   "source": [
    "print(cubes(3))"
   ]
  },
  {
   "cell_type": "code",
   "execution_count": null,
   "id": "dd786afd",
   "metadata": {},
   "outputs": [],
   "source": []
  }
 ],
 "metadata": {
  "kernelspec": {
   "display_name": "Python 3 (ipykernel)",
   "language": "python",
   "name": "python3"
  },
  "language_info": {
   "codemirror_mode": {
    "name": "ipython",
    "version": 3
   },
   "file_extension": ".py",
   "mimetype": "text/x-python",
   "name": "python",
   "nbconvert_exporter": "python",
   "pygments_lexer": "ipython3",
   "version": "3.9.7"
  }
 },
 "nbformat": 4,
 "nbformat_minor": 5
}
