{
 "cells": [
  {
   "cell_type": "code",
   "execution_count": 1,
   "id": "dd6d4840",
   "metadata": {},
   "outputs": [],
   "source": [
    "# Integers: 2 or -2\n",
    "# Floating point: 2.0 or -4.6"
   ]
  },
  {
   "cell_type": "code",
   "execution_count": 3,
   "id": "4b70ee60",
   "metadata": {},
   "outputs": [
    {
     "data": {
      "text/plain": [
       "5"
      ]
     },
     "execution_count": 3,
     "metadata": {},
     "output_type": "execute_result"
    }
   ],
   "source": [
    "# addition\n",
    "2+3"
   ]
  },
  {
   "cell_type": "code",
   "execution_count": 4,
   "id": "6568ccd5",
   "metadata": {},
   "outputs": [
    {
     "data": {
      "text/plain": [
       "2"
      ]
     },
     "execution_count": 4,
     "metadata": {},
     "output_type": "execute_result"
    }
   ],
   "source": [
    "# subtraction\n",
    "4-2"
   ]
  },
  {
   "cell_type": "code",
   "execution_count": 5,
   "id": "d1d60c1a",
   "metadata": {},
   "outputs": [
    {
     "data": {
      "text/plain": [
       "28"
      ]
     },
     "execution_count": 5,
     "metadata": {},
     "output_type": "execute_result"
    }
   ],
   "source": [
    "# multiplicaiton\n",
    "4*7"
   ]
  },
  {
   "cell_type": "code",
   "execution_count": 6,
   "id": "bf1481d2",
   "metadata": {},
   "outputs": [
    {
     "data": {
      "text/plain": [
       "2.5"
      ]
     },
     "execution_count": 6,
     "metadata": {},
     "output_type": "execute_result"
    }
   ],
   "source": [
    "# division\n",
    "5/2"
   ]
  },
  {
   "cell_type": "code",
   "execution_count": 7,
   "id": "ce48cfc4",
   "metadata": {},
   "outputs": [
    {
     "data": {
      "text/plain": [
       "2"
      ]
     },
     "execution_count": 7,
     "metadata": {},
     "output_type": "execute_result"
    }
   ],
   "source": [
    "# floor division\n",
    "5//2"
   ]
  },
  {
   "cell_type": "code",
   "execution_count": 8,
   "id": "9bac3a3d",
   "metadata": {},
   "outputs": [
    {
     "data": {
      "text/plain": [
       "1"
      ]
     },
     "execution_count": 8,
     "metadata": {},
     "output_type": "execute_result"
    }
   ],
   "source": [
    "# modulo\n",
    "5%2"
   ]
  },
  {
   "cell_type": "code",
   "execution_count": 10,
   "id": "0c9474c5",
   "metadata": {},
   "outputs": [
    {
     "data": {
      "text/plain": [
       "1024"
      ]
     },
     "execution_count": 10,
     "metadata": {},
     "output_type": "execute_result"
    }
   ],
   "source": [
    "# powers\n",
    "2 ** 10"
   ]
  },
  {
   "cell_type": "code",
   "execution_count": 11,
   "id": "a3616ee3",
   "metadata": {},
   "outputs": [
    {
     "data": {
      "text/plain": [
       "1.4142135623730951"
      ]
     },
     "execution_count": 11,
     "metadata": {},
     "output_type": "execute_result"
    }
   ],
   "source": [
    "# roots\n",
    "2 ** 0.5"
   ]
  },
  {
   "cell_type": "code",
   "execution_count": 13,
   "id": "ce0d9e7e",
   "metadata": {},
   "outputs": [
    {
     "data": {
      "text/plain": [
       "34"
      ]
     },
     "execution_count": 13,
     "metadata": {},
     "output_type": "execute_result"
    }
   ],
   "source": [
    "# order\n",
    "(2 + 5) * 6 - 8"
   ]
  },
  {
   "cell_type": "code",
   "execution_count": null,
   "id": "145f1622",
   "metadata": {},
   "outputs": [],
   "source": []
  }
 ],
 "metadata": {
  "kernelspec": {
   "display_name": "Python 3 (ipykernel)",
   "language": "python",
   "name": "python3"
  },
  "language_info": {
   "codemirror_mode": {
    "name": "ipython",
    "version": 3
   },
   "file_extension": ".py",
   "mimetype": "text/x-python",
   "name": "python",
   "nbconvert_exporter": "python",
   "pygments_lexer": "ipython3",
   "version": "3.9.7"
  }
 },
 "nbformat": 4,
 "nbformat_minor": 5
}
