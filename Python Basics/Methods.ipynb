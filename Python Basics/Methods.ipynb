{
 "cells": [
  {
   "cell_type": "code",
   "execution_count": 1,
   "id": "1eac7e27",
   "metadata": {},
   "outputs": [],
   "source": [
    "# functions in a class other than __init__"
   ]
  },
  {
   "cell_type": "code",
   "execution_count": 2,
   "id": "89c403b4",
   "metadata": {},
   "outputs": [],
   "source": [
    "class Circle:\n",
    "    pi = 3.14\n",
    "    \n",
    "    def __init__(self, radius=1):\n",
    "        self.radius = radius\n",
    "        self.area = radius * radius * Circle.pi\n",
    "    \n",
    "    def setRadius(self, new_radius):\n",
    "        self.radius = new_radius\n",
    "        self.area = new_radius*new_radius * self.pi\n",
    "    \n",
    "    def getCircumference(self):    # 2*pi*r\n",
    "        return self.radius * self.pi * 2\n",
    "    \n",
    "\n",
    "c = Circle()"
   ]
  },
  {
   "cell_type": "code",
   "execution_count": 3,
   "id": "c5116c25",
   "metadata": {},
   "outputs": [
    {
     "name": "stdout",
     "output_type": "stream",
     "text": [
      "Radius is 1\n"
     ]
    }
   ],
   "source": [
    "print(\"Radius is\", c.radius)"
   ]
  },
  {
   "cell_type": "code",
   "execution_count": 4,
   "id": "00b0e0d1",
   "metadata": {},
   "outputs": [
    {
     "name": "stdout",
     "output_type": "stream",
     "text": [
      "Area is 3.14\n"
     ]
    }
   ],
   "source": [
    "print(\"Area is\", c.area)"
   ]
  },
  {
   "cell_type": "code",
   "execution_count": 5,
   "id": "6d83511e",
   "metadata": {},
   "outputs": [
    {
     "name": "stdout",
     "output_type": "stream",
     "text": [
      "Circumference is 6.28\n"
     ]
    }
   ],
   "source": [
    "print(\"Circumference is\", c.getCircumference())"
   ]
  },
  {
   "cell_type": "code",
   "execution_count": null,
   "id": "a0fa2384",
   "metadata": {},
   "outputs": [],
   "source": []
  }
 ],
 "metadata": {
  "kernelspec": {
   "display_name": "Python 3 (ipykernel)",
   "language": "python",
   "name": "python3"
  },
  "language_info": {
   "codemirror_mode": {
    "name": "ipython",
    "version": 3
   },
   "file_extension": ".py",
   "mimetype": "text/x-python",
   "name": "python",
   "nbconvert_exporter": "python",
   "pygments_lexer": "ipython3",
   "version": "3.9.7"
  }
 },
 "nbformat": 4,
 "nbformat_minor": 5
}
